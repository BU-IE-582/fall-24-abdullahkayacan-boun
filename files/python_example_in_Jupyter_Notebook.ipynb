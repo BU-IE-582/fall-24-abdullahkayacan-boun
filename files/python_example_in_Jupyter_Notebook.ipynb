{
 "cells": [
  {
   "cell_type": "markdown",
   "id": "c9df8eac",
   "metadata": {},
   "source": [
    "# This is a Jupyter Notebook cell with markdown."
   ]
  },
  {
   "cell_type": "code",
   "execution_count": 1,
   "id": "2ebd707c",
   "metadata": {},
   "outputs": [],
   "source": [
    "from random import *\n",
    "import numpy as np\n",
    "\n",
    "# Edit the following function so that it uses your student id as the default parameter\n",
    "def TPmatrix(N=5, ID=2013205054): # USE YOUR OWN STUDENT NUMBER HERE\n",
    "    P = [[0 for i in range(N)] for j in range(N)]\n",
    "    sum = [0] * N\n",
    "    seed(ID)\n",
    "    for i in range(N):\n",
    "        for j in range(N):\n",
    "            P[i][j] = random()\n",
    "            sum[i] += P[i][j]\n",
    "            \n",
    "    for i in range(N): \n",
    "        for j in range(N):\n",
    "            P[i][j] = P[i][j] / sum[i]\n",
    "        \n",
    "    return np.array(P)"
   ]
  },
  {
   "cell_type": "code",
   "execution_count": 2,
   "id": "eb134479",
   "metadata": {},
   "outputs": [
    {
     "data": {
      "text/plain": [
       "array([[0.33098225, 0.41405962, 0.05421248, 0.04840539, 0.15234025],\n",
       "       [0.27374962, 0.14573193, 0.05569556, 0.28456344, 0.24025944],\n",
       "       [0.16410317, 0.13416036, 0.16680402, 0.09336746, 0.44156499],\n",
       "       [0.199977  , 0.18876505, 0.21991818, 0.20747811, 0.18386166],\n",
       "       [0.21695535, 0.13385206, 0.24576273, 0.16975337, 0.2336765 ]])"
      ]
     },
     "execution_count": 2,
     "metadata": {},
     "output_type": "execute_result"
    }
   ],
   "source": [
    "TPmatrix()"
   ]
  },
  {
   "cell_type": "markdown",
   "id": "686f0fd1",
   "metadata": {},
   "source": [
    "# After running, go to File>Download as>HTML.\n",
    "# Then upload the html file to your repository and link it in your Progress Journal."
   ]
  },
  {
   "cell_type": "code",
   "execution_count": null,
   "id": "61d48d29",
   "metadata": {},
   "outputs": [],
   "source": []
  }
 ],
 "metadata": {
  "kernelspec": {
   "display_name": "Python 3",
   "language": "python",
   "name": "python3"
  },
  "language_info": {
   "codemirror_mode": {
    "name": "ipython",
    "version": 3
   },
   "file_extension": ".py",
   "mimetype": "text/x-python",
   "name": "python",
   "nbconvert_exporter": "python",
   "pygments_lexer": "ipython3",
   "version": "3.8.8"
  }
 },
 "nbformat": 4,
 "nbformat_minor": 5
}
